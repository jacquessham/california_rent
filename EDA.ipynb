{
 "cells": [
  {
   "cell_type": "code",
   "execution_count": 1,
   "metadata": {
    "ExecuteTime": {
     "end_time": "2019-03-25T05:15:19.105935Z",
     "start_time": "2019-03-25T05:15:18.752800Z"
    }
   },
   "outputs": [],
   "source": [
    "import pandas as pd"
   ]
  },
  {
   "cell_type": "code",
   "execution_count": 2,
   "metadata": {
    "ExecuteTime": {
     "end_time": "2019-03-25T05:15:19.507247Z",
     "start_time": "2019-03-25T05:15:19.108134Z"
    }
   },
   "outputs": [],
   "source": [
    "data = pd.read_csv(\"data.csv\")"
   ]
  },
  {
   "cell_type": "code",
   "execution_count": 3,
   "metadata": {
    "ExecuteTime": {
     "end_time": "2019-03-25T05:15:19.525365Z",
     "start_time": "2019-03-25T05:15:19.509561Z"
    }
   },
   "outputs": [
    {
     "data": {
      "text/plain": [
       "state\n",
       "CA    21829\n",
       "VA        7\n",
       "NV        5\n",
       "UT        2\n",
       "OH        2\n",
       "MD        2\n",
       "FL        2\n",
       "CT        2\n",
       "WA        1\n",
       "NC        1\n",
       "Name: state, dtype: int64"
      ]
     },
     "execution_count": 3,
     "metadata": {},
     "output_type": "execute_result"
    }
   ],
   "source": [
    "data.groupby('state')['state'].count().sort_values(ascending=False)"
   ]
  },
  {
   "cell_type": "code",
   "execution_count": 4,
   "metadata": {
    "ExecuteTime": {
     "end_time": "2019-03-25T05:15:19.538640Z",
     "start_time": "2019-03-25T05:15:19.527827Z"
    }
   },
   "outputs": [],
   "source": [
    "data = data[data['state'] == 'CA']"
   ]
  },
  {
   "cell_type": "code",
   "execution_count": 5,
   "metadata": {
    "ExecuteTime": {
     "end_time": "2019-03-25T05:15:19.548635Z",
     "start_time": "2019-03-25T05:15:19.540610Z"
    }
   },
   "outputs": [
    {
     "data": {
      "text/plain": [
       "state\n",
       "CA    21829\n",
       "Name: state, dtype: int64"
      ]
     },
     "execution_count": 5,
     "metadata": {},
     "output_type": "execute_result"
    }
   ],
   "source": [
    "data.groupby('state')['state'].count().sort_values(ascending=False)"
   ]
  },
  {
   "cell_type": "code",
   "execution_count": 6,
   "metadata": {
    "ExecuteTime": {
     "end_time": "2019-03-25T05:15:19.748758Z",
     "start_time": "2019-03-25T05:15:19.738563Z"
    }
   },
   "outputs": [
    {
     "data": {
      "text/plain": [
       "county\n",
       "Santa Clara        3593\n",
       "Los Angeles        2918\n",
       "San Diego          2917\n",
       "San Francisco      2894\n",
       "Sacramento         2290\n",
       "Alameda            1942\n",
       "San Mateo          1621\n",
       "Sonoma             1230\n",
       "Contra Costa        854\n",
       "Marin               452\n",
       "Placer              399\n",
       "Solano              263\n",
       "Yolo                166\n",
       "Napa                123\n",
       "San Joaquin          53\n",
       "El Dorado            33\n",
       "Mendocino            20\n",
       "Kern                 12\n",
       "Orange               10\n",
       "Ventura               7\n",
       "Lake                  7\n",
       "Riverside             6\n",
       "Monterey              4\n",
       "Sutter                3\n",
       "San Bernardino        3\n",
       "San Benito            2\n",
       "Stanislaus            2\n",
       "Santa Cruz            1\n",
       "Nevada                1\n",
       "Imperial              1\n",
       "San Luis Obispo       1\n",
       "Siskiyou              1\n",
       "Name: county, dtype: int64"
      ]
     },
     "execution_count": 6,
     "metadata": {},
     "output_type": "execute_result"
    }
   ],
   "source": [
    "data.groupby('county')['county'].count().sort_values(ascending=False)"
   ]
  },
  {
   "cell_type": "code",
   "execution_count": 7,
   "metadata": {
    "ExecuteTime": {
     "end_time": "2019-03-25T05:15:20.415439Z",
     "start_time": "2019-03-25T05:15:20.405525Z"
    }
   },
   "outputs": [
    {
     "data": {
      "text/plain": [
       "county\n",
       "San Luis Obispo    1450.0\n",
       "El Dorado          1102.0\n",
       "San Joaquin        1057.0\n",
       "Ventura            1017.0\n",
       "Riverside           968.0\n",
       "Sonoma              950.0\n",
       "Monterey            900.0\n",
       "Napa                900.0\n",
       "Placer              881.0\n",
       "Solano              871.0\n",
       "San Diego           864.0\n",
       "Yolo                855.0\n",
       "Contra Costa        850.0\n",
       "Marin               843.0\n",
       "San Mateo           826.0\n",
       "Santa Clara         825.0\n",
       "Sacramento          809.5\n",
       "San Francisco       805.0\n",
       "Los Angeles         800.0\n",
       "Lake                800.0\n",
       "Alameda             800.0\n",
       "Mendocino           789.0\n",
       "Orange              750.0\n",
       "San Bernardino      627.0\n",
       "Kern                520.0\n",
       "Sutter              400.0\n",
       "Imperial              NaN\n",
       "Nevada                NaN\n",
       "San Benito            NaN\n",
       "Santa Cruz            NaN\n",
       "Siskiyou              NaN\n",
       "Stanislaus            NaN\n",
       "Name: sqft, dtype: float64"
      ]
     },
     "execution_count": 7,
     "metadata": {},
     "output_type": "execute_result"
    }
   ],
   "source": [
    "data.groupby('county')['sqft'].median().sort_values(ascending=False)"
   ]
  },
  {
   "cell_type": "code",
   "execution_count": 8,
   "metadata": {
    "ExecuteTime": {
     "end_time": "2019-03-25T05:15:20.898696Z",
     "start_time": "2019-03-25T05:15:20.888259Z"
    }
   },
   "outputs": [
    {
     "data": {
      "text/plain": [
       "county\n",
       "Nevada             4500.0\n",
       "San Francisco      3459.0\n",
       "San Mateo          2931.0\n",
       "Santa Clara        2695.0\n",
       "Marin              2677.5\n",
       "Alameda            2418.0\n",
       "Ventura            2328.0\n",
       "Sonoma             2232.5\n",
       "Napa               2069.0\n",
       "Contra Costa       2000.0\n",
       "Los Angeles        1990.0\n",
       "El Dorado          1850.0\n",
       "San Diego          1846.5\n",
       "Solano             1800.0\n",
       "Monterey           1800.0\n",
       "San Joaquin        1795.0\n",
       "San Benito         1722.5\n",
       "Riverside          1607.5\n",
       "Placer             1575.0\n",
       "Yolo               1515.0\n",
       "San Luis Obispo    1500.0\n",
       "San Bernardino     1495.0\n",
       "Orange             1478.5\n",
       "Sacramento         1330.0\n",
       "Mendocino          1275.0\n",
       "Stanislaus         1222.5\n",
       "Santa Cruz         1200.0\n",
       "Lake               1000.0\n",
       "Kern                945.0\n",
       "Sutter              850.0\n",
       "Imperial            775.0\n",
       "Siskiyou            360.0\n",
       "Name: price, dtype: float64"
      ]
     },
     "execution_count": 8,
     "metadata": {},
     "output_type": "execute_result"
    }
   ],
   "source": [
    "data.groupby('county')['price'].median().sort_values(ascending=False)"
   ]
  },
  {
   "cell_type": "code",
   "execution_count": 9,
   "metadata": {
    "ExecuteTime": {
     "end_time": "2019-03-25T05:15:21.392639Z",
     "start_time": "2019-03-25T05:15:21.366329Z"
    }
   },
   "outputs": [],
   "source": [
    "data['price_foot'] = pd.to_numeric(data['price'])/pd.to_numeric(data['sqft'])"
   ]
  },
  {
   "cell_type": "code",
   "execution_count": 10,
   "metadata": {
    "ExecuteTime": {
     "end_time": "2019-03-25T05:15:22.016893Z",
     "start_time": "2019-03-25T05:15:22.006397Z"
    }
   },
   "outputs": [],
   "source": [
    "avg_rent = data.groupby('county')['price_foot'].median().sort_values(ascending=False)\n",
    "avg_rent = pd.DataFrame(avg_rent[avg_rent.notna()])"
   ]
  },
  {
   "cell_type": "code",
   "execution_count": 11,
   "metadata": {
    "ExecuteTime": {
     "end_time": "2019-03-25T05:15:22.848033Z",
     "start_time": "2019-03-25T05:15:22.841927Z"
    }
   },
   "outputs": [],
   "source": [
    "avg_rent.reset_index(level=0, inplace=True)\n",
    "avg_rent.columns = ['countyname','median_sqft_price']\n",
    "avg_rent['countyname'] = avg_rent['countyname'] + ' County'"
   ]
  },
  {
   "cell_type": "code",
   "execution_count": 12,
   "metadata": {
    "ExecuteTime": {
     "end_time": "2019-03-25T05:15:23.655638Z",
     "start_time": "2019-03-25T05:15:23.642153Z"
    }
   },
   "outputs": [
    {
     "data": {
      "text/html": [
       "<div>\n",
       "<style scoped>\n",
       "    .dataframe tbody tr th:only-of-type {\n",
       "        vertical-align: middle;\n",
       "    }\n",
       "\n",
       "    .dataframe tbody tr th {\n",
       "        vertical-align: top;\n",
       "    }\n",
       "\n",
       "    .dataframe thead th {\n",
       "        text-align: right;\n",
       "    }\n",
       "</style>\n",
       "<table border=\"1\" class=\"dataframe\">\n",
       "  <thead>\n",
       "    <tr style=\"text-align: right;\">\n",
       "      <th></th>\n",
       "      <th>countyname</th>\n",
       "      <th>median_sqft_price</th>\n",
       "    </tr>\n",
       "  </thead>\n",
       "  <tbody>\n",
       "    <tr>\n",
       "      <th>0</th>\n",
       "      <td>San Francisco County</td>\n",
       "      <td>4.666667</td>\n",
       "    </tr>\n",
       "    <tr>\n",
       "      <th>1</th>\n",
       "      <td>San Mateo County</td>\n",
       "      <td>3.757553</td>\n",
       "    </tr>\n",
       "    <tr>\n",
       "      <th>2</th>\n",
       "      <td>Marin County</td>\n",
       "      <td>3.309019</td>\n",
       "    </tr>\n",
       "    <tr>\n",
       "      <th>3</th>\n",
       "      <td>Santa Clara County</td>\n",
       "      <td>3.278571</td>\n",
       "    </tr>\n",
       "    <tr>\n",
       "      <th>4</th>\n",
       "      <td>Alameda County</td>\n",
       "      <td>3.042126</td>\n",
       "    </tr>\n",
       "    <tr>\n",
       "      <th>5</th>\n",
       "      <td>Ventura County</td>\n",
       "      <td>2.626352</td>\n",
       "    </tr>\n",
       "    <tr>\n",
       "      <th>6</th>\n",
       "      <td>Los Angeles County</td>\n",
       "      <td>2.600000</td>\n",
       "    </tr>\n",
       "    <tr>\n",
       "      <th>7</th>\n",
       "      <td>Contra Costa County</td>\n",
       "      <td>2.483243</td>\n",
       "    </tr>\n",
       "    <tr>\n",
       "      <th>8</th>\n",
       "      <td>San Bernardino County</td>\n",
       "      <td>2.384370</td>\n",
       "    </tr>\n",
       "    <tr>\n",
       "      <th>9</th>\n",
       "      <td>Sonoma County</td>\n",
       "      <td>2.312500</td>\n",
       "    </tr>\n",
       "    <tr>\n",
       "      <th>10</th>\n",
       "      <td>Napa County</td>\n",
       "      <td>2.300551</td>\n",
       "    </tr>\n",
       "    <tr>\n",
       "      <th>11</th>\n",
       "      <td>San Diego County</td>\n",
       "      <td>2.284615</td>\n",
       "    </tr>\n",
       "    <tr>\n",
       "      <th>12</th>\n",
       "      <td>Orange County</td>\n",
       "      <td>2.220000</td>\n",
       "    </tr>\n",
       "    <tr>\n",
       "      <th>13</th>\n",
       "      <td>Solano County</td>\n",
       "      <td>2.204363</td>\n",
       "    </tr>\n",
       "    <tr>\n",
       "      <th>14</th>\n",
       "      <td>Sutter County</td>\n",
       "      <td>2.125000</td>\n",
       "    </tr>\n",
       "    <tr>\n",
       "      <th>15</th>\n",
       "      <td>Monterey County</td>\n",
       "      <td>2.000000</td>\n",
       "    </tr>\n",
       "    <tr>\n",
       "      <th>16</th>\n",
       "      <td>Kern County</td>\n",
       "      <td>1.913462</td>\n",
       "    </tr>\n",
       "    <tr>\n",
       "      <th>17</th>\n",
       "      <td>San Joaquin County</td>\n",
       "      <td>1.850299</td>\n",
       "    </tr>\n",
       "    <tr>\n",
       "      <th>18</th>\n",
       "      <td>El Dorado County</td>\n",
       "      <td>1.751927</td>\n",
       "    </tr>\n",
       "    <tr>\n",
       "      <th>19</th>\n",
       "      <td>Placer County</td>\n",
       "      <td>1.708547</td>\n",
       "    </tr>\n",
       "    <tr>\n",
       "      <th>20</th>\n",
       "      <td>Yolo County</td>\n",
       "      <td>1.683333</td>\n",
       "    </tr>\n",
       "    <tr>\n",
       "      <th>21</th>\n",
       "      <td>Riverside County</td>\n",
       "      <td>1.670971</td>\n",
       "    </tr>\n",
       "    <tr>\n",
       "      <th>22</th>\n",
       "      <td>Sacramento County</td>\n",
       "      <td>1.658477</td>\n",
       "    </tr>\n",
       "    <tr>\n",
       "      <th>23</th>\n",
       "      <td>Mendocino County</td>\n",
       "      <td>1.615970</td>\n",
       "    </tr>\n",
       "    <tr>\n",
       "      <th>24</th>\n",
       "      <td>Lake County</td>\n",
       "      <td>1.250000</td>\n",
       "    </tr>\n",
       "    <tr>\n",
       "      <th>25</th>\n",
       "      <td>San Luis Obispo County</td>\n",
       "      <td>1.034483</td>\n",
       "    </tr>\n",
       "  </tbody>\n",
       "</table>\n",
       "</div>"
      ],
      "text/plain": [
       "                countyname  median_sqft_price\n",
       "0     San Francisco County           4.666667\n",
       "1         San Mateo County           3.757553\n",
       "2             Marin County           3.309019\n",
       "3       Santa Clara County           3.278571\n",
       "4           Alameda County           3.042126\n",
       "5           Ventura County           2.626352\n",
       "6       Los Angeles County           2.600000\n",
       "7      Contra Costa County           2.483243\n",
       "8    San Bernardino County           2.384370\n",
       "9            Sonoma County           2.312500\n",
       "10             Napa County           2.300551\n",
       "11        San Diego County           2.284615\n",
       "12           Orange County           2.220000\n",
       "13           Solano County           2.204363\n",
       "14           Sutter County           2.125000\n",
       "15         Monterey County           2.000000\n",
       "16             Kern County           1.913462\n",
       "17      San Joaquin County           1.850299\n",
       "18        El Dorado County           1.751927\n",
       "19           Placer County           1.708547\n",
       "20             Yolo County           1.683333\n",
       "21        Riverside County           1.670971\n",
       "22       Sacramento County           1.658477\n",
       "23        Mendocino County           1.615970\n",
       "24             Lake County           1.250000\n",
       "25  San Luis Obispo County           1.034483"
      ]
     },
     "execution_count": 12,
     "metadata": {},
     "output_type": "execute_result"
    }
   ],
   "source": [
    "avg_rent"
   ]
  },
  {
   "cell_type": "code",
   "execution_count": 13,
   "metadata": {
    "ExecuteTime": {
     "end_time": "2019-03-25T05:15:26.389009Z",
     "start_time": "2019-03-25T05:15:26.382235Z"
    }
   },
   "outputs": [],
   "source": [
    "avg_rent.to_csv('county_avg_rent.csv', index=False)"
   ]
  },
  {
   "cell_type": "code",
   "execution_count": null,
   "metadata": {},
   "outputs": [],
   "source": []
  }
 ],
 "metadata": {
  "kernelspec": {
   "display_name": "Python 3",
   "language": "python",
   "name": "python3"
  },
  "language_info": {
   "codemirror_mode": {
    "name": "ipython",
    "version": 3
   },
   "file_extension": ".py",
   "mimetype": "text/x-python",
   "name": "python",
   "nbconvert_exporter": "python",
   "pygments_lexer": "ipython3",
   "version": "3.6.8"
  }
 },
 "nbformat": 4,
 "nbformat_minor": 2
}
